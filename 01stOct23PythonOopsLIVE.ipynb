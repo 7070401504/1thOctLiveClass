{
 "cells": [
  {
   "cell_type": "code",
   "execution_count": 1,
   "id": "dd25acfc-4f95-4846-a71d-bef4e9b3e319",
   "metadata": {},
   "outputs": [
    {
     "data": {
      "text/plain": [
       "17"
      ]
     },
     "execution_count": 1,
     "metadata": {},
     "output_type": "execute_result"
    }
   ],
   "source": [
    "8+9"
   ]
  },
  {
   "cell_type": "code",
   "execution_count": 3,
   "id": "40ae3fe2-6f8e-4364-8d66-c4aa6e22c5bf",
   "metadata": {},
   "outputs": [],
   "source": [
    "a=10\n",
    "b=2\n",
    "c=30"
   ]
  },
  {
   "cell_type": "code",
   "execution_count": 4,
   "id": "2e3ee73a-fb74-4219-8e28-540ca7b4a961",
   "metadata": {},
   "outputs": [],
   "source": [
    "s='SHAHANSAH'"
   ]
  },
  {
   "cell_type": "code",
   "execution_count": 6,
   "id": "646c1421-58e7-406a-9a68-e9ca56d67aae",
   "metadata": {},
   "outputs": [
    {
     "data": {
      "text/plain": [
       "'shahansah'"
      ]
     },
     "execution_count": 6,
     "metadata": {},
     "output_type": "execute_result"
    }
   ],
   "source": [
    "s.lower()"
   ]
  },
  {
   "cell_type": "code",
   "execution_count": 37,
   "id": "79efa1d9-ace9-4ab9-a200-2216f3c94c34",
   "metadata": {},
   "outputs": [],
   "source": [
    "class bankaccount:\n",
    "    def openaccont(self,name,email_id):\n",
    "        print(\"open and accont by taking and email id\")\n",
    "        return name+email_id    \n",
    "    def deposit(self,amount):\n",
    "         print(\"i am trying to deposite an amount in my accont\")\n",
    "    def withdral(self,amt_with):\n",
    "         print(\"withdral the amount\")\n",
    "    def update_details(self,name_update,email_upfate):\n",
    "         print(\"this function will update my name and mail if for accont\")\n",
    "         "
   ]
  },
  {
   "cell_type": "code",
   "execution_count": 38,
   "id": "9f7f7ef8-46be-4f7b-adea-c2ecff7a890f",
   "metadata": {},
   "outputs": [],
   "source": [
    "shah = bankaccount()"
   ]
  },
  {
   "cell_type": "code",
   "execution_count": 39,
   "id": "bf38035a-fe10-4143-be0d-efe67c1dfcc5",
   "metadata": {},
   "outputs": [
    {
     "name": "stdout",
     "output_type": "stream",
     "text": [
      "open and accont by taking and email id\n"
     ]
    },
    {
     "data": {
      "text/plain": [
       "'shahanshahsshahanshah@gmail.com'"
      ]
     },
     "execution_count": 39,
     "metadata": {},
     "output_type": "execute_result"
    }
   ],
   "source": [
    "shah.openaccont(\"shahanshahs\",\"shahanshah@gmail.com\")"
   ]
  },
  {
   "cell_type": "code",
   "execution_count": null,
   "id": "fdbe4c23-7ff0-41c0-9020-ae122b7291cb",
   "metadata": {},
   "outputs": [],
   "source": []
  },
  {
   "cell_type": "code",
   "execution_count": null,
   "id": "fc6626fb-9547-4e34-aeb9-2fe4512e8af2",
   "metadata": {},
   "outputs": [],
   "source": []
  },
  {
   "cell_type": "code",
   "execution_count": 29,
   "id": "c1ee6246-e039-4869-9cef-79c169d28e9a",
   "metadata": {},
   "outputs": [],
   "source": [
    "def openaccont(name,email_id):\n",
    "        print(\"open and accont by taking and email id\")\n",
    "        return name + email_id "
   ]
  },
  {
   "cell_type": "code",
   "execution_count": null,
   "id": "de21d3ce-ac83-4f49-8bc0-e8a0565164bc",
   "metadata": {},
   "outputs": [],
   "source": []
  },
  {
   "cell_type": "code",
   "execution_count": 30,
   "id": "b5b76522-e44d-41b2-9231-012007ac83f5",
   "metadata": {},
   "outputs": [
    {
     "name": "stdout",
     "output_type": "stream",
     "text": [
      "open and accont by taking and email id\n"
     ]
    },
    {
     "data": {
      "text/plain": [
       "'shahanshashahanshah@gamil.com'"
      ]
     },
     "execution_count": 30,
     "metadata": {},
     "output_type": "execute_result"
    }
   ],
   "source": [
    "openaccont(\"shahansha\",\"shahanshah@gamil.com\")"
   ]
  },
  {
   "cell_type": "code",
   "execution_count": 31,
   "id": "1a26d48e-e54e-43e8-b7ff-12a88de17aa5",
   "metadata": {},
   "outputs": [
    {
     "ename": "TypeError",
     "evalue": "deposit() missing 1 required positional argument: 'amount'",
     "output_type": "error",
     "traceback": [
      "\u001b[0;31m---------------------------------------------------------------------------\u001b[0m",
      "\u001b[0;31mTypeError\u001b[0m                                 Traceback (most recent call last)",
      "Cell \u001b[0;32mIn[31], line 1\u001b[0m\n\u001b[0;32m----> 1\u001b[0m deposit(\u001b[38;5;241m45\u001b[39m)\n",
      "\u001b[0;31mTypeError\u001b[0m: deposit() missing 1 required positional argument: 'amount'"
     ]
    }
   ],
   "source": [
    "deposit(45)"
   ]
  },
  {
   "cell_type": "code",
   "execution_count": 9,
   "id": "0158fc83-fd15-48d8-b1af-27caea4feeba",
   "metadata": {},
   "outputs": [],
   "source": [
    "class list_ops:\n",
    "    a=10\n",
    "    def exractfromiindex(self,l,index):\n",
    "        return l[index]\n",
    "    def extractrangedata(self,l,start,end):\n",
    "        return l[start:end]\n",
    "    def exctracteven(self,l):\n",
    "        l1=[]\n",
    "        for i in l:\n",
    "            if i%2==0:\n",
    "                l1.aappend()\n",
    "                return l1"
   ]
  },
  {
   "cell_type": "code",
   "execution_count": 10,
   "id": "129135ff-3257-4834-8523-210047d0a291",
   "metadata": {},
   "outputs": [
    {
     "data": {
      "text/plain": [
       "7"
      ]
     },
     "execution_count": 10,
     "metadata": {},
     "output_type": "execute_result"
    }
   ],
   "source": [
    "first_obj=list_ops()\n",
    "first_obj.exractfromiindex([2,3,4,57,7,2,1],4)"
   ]
  },
  {
   "cell_type": "code",
   "execution_count": 11,
   "id": "e6017266-f00e-444c-b435-67012d443186",
   "metadata": {},
   "outputs": [
    {
     "data": {
      "text/plain": [
       "[2, 3, 4, 6]"
      ]
     },
     "execution_count": 11,
     "metadata": {},
     "output_type": "execute_result"
    }
   ],
   "source": [
    "first_obj.extractrangedata([2,3,4,6,7,8,9,6],0,4)"
   ]
  },
  {
   "cell_type": "code",
   "execution_count": null,
   "id": "c75648ab-7869-4c9e-8c80-8e4ac126dd47",
   "metadata": {},
   "outputs": [],
   "source": []
  },
  {
   "cell_type": "code",
   "execution_count": null,
   "id": "50fa70cf-b86a-4ad0-b7e6-53eafcba25a3",
   "metadata": {},
   "outputs": [],
   "source": []
  },
  {
   "cell_type": "code",
   "execution_count": 25,
   "id": "2358b915-4f99-46ce-b0d9-fc9d3b199eed",
   "metadata": {},
   "outputs": [
    {
     "name": "stdout",
     "output_type": "stream",
     "text": [
      "Value at index 2: 45\n",
      "Range data from index 1 to 4: [3, 45, 2]\n",
      "Even numbers: [2, 2]\n"
     ]
    }
   ],
   "source": [
    "class ListOps:\n",
    "    def __init__(self, l):\n",
    "        self.l = l\n",
    "\n",
    "    def extract_from_index(self, index):\n",
    "        return self.l[index]\n",
    "\n",
    "    def extract_range_data(self, start, end):\n",
    "        return self.l[start:end]\n",
    "\n",
    "    def extract_even(self):\n",
    "        l1 = []\n",
    "        for i in self.l:\n",
    "            if i % 2 == 0:\n",
    "                l1.append(i)\n",
    "        return l1\n",
    "\n",
    "# Example usage:\n",
    "# Create an instance of the ListOps class\n",
    "shahanshah = ListOps([2, 3, 45, 2, 9, 9])\n",
    "\n",
    "# Use the methods\n",
    "index_value = shahanshah.extract_from_index(2)\n",
    "range_data = shahanshah.extract_range_data(1, 4)\n",
    "even_numbers = shahanshah.extract_even()\n",
    "\n",
    "print(\"Value at index 2:\", index_value)\n",
    "print(\"Range data from index 1 to 4:\", range_data)\n",
    "print(\"Even numbers:\", even_numbers)\n",
    "\n",
    "    "
   ]
  },
  {
   "cell_type": "code",
   "execution_count": 28,
   "id": "51c3b9ec-47af-4df2-93d8-f9ffc07f35fc",
   "metadata": {},
   "outputs": [
    {
     "ename": "IndentationError",
     "evalue": "expected an indented block after function definition on line 5 (1509877214.py, line 6)",
     "output_type": "error",
     "traceback": [
      "\u001b[0;36m  Cell \u001b[0;32mIn[28], line 6\u001b[0;36m\u001b[0m\n\u001b[0;31m    def exractfromiindex(shahanshah,l,index):\u001b[0m\n\u001b[0m    ^\u001b[0m\n\u001b[0;31mIndentationError\u001b[0m\u001b[0;31m:\u001b[0m expected an indented block after function definition on line 5\n"
     ]
    }
   ],
   "source": [
    "class list_ops:\n",
    "    #a=10\n",
    "   # l=[2,3,45,2,9,9]\n",
    "    shahanshah.l=1\n",
    "    def __int__(shahanshah,l):\n",
    "    def exractfromiindex(shahanshah,l,index):\n",
    "        return l[index]\n",
    "    def extractrangedata(shahanshah,l,start,end):\n",
    "        return l[start:end]\n",
    "    def exctracteven(self,l):\n",
    "        l1=[]\n",
    "        for i in l:\n",
    "            if i%2==0:\n",
    "                l1.aappend()\n",
    "                return l1"
   ]
  },
  {
   "cell_type": "code",
   "execution_count": 27,
   "id": "34181f56-7c89-4d58-ad4b-078cb4809634",
   "metadata": {},
   "outputs": [
    {
     "data": {
      "text/plain": [
       "[2, 3, 45, 2, 9, 9]"
      ]
     },
     "execution_count": 27,
     "metadata": {},
     "output_type": "execute_result"
    }
   ],
   "source": [
    "tfird_obj=list_ops()\n",
    "tfird_obj.l"
   ]
  },
  {
   "cell_type": "code",
   "execution_count": 29,
   "id": "8002b380-55f9-4ff0-89a0-5b1e40946374",
   "metadata": {},
   "outputs": [
    {
     "name": "stdout",
     "output_type": "stream",
     "text": [
      "Value at index 2: 45\n",
      "Range data from index 1 to 4: [3, 45, 2]\n",
      "Even numbers: [2, 2]\n"
     ]
    }
   ],
   "source": [
    "class ListOps:\n",
    "    def __init__(self, l):\n",
    "        self.l = l\n",
    "\n",
    "    def extract_from_index(self, index):\n",
    "        return self.l[index]\n",
    "\n",
    "    def extract_range_data(self, start, end):\n",
    "        return self.l[start:end]\n",
    "\n",
    "    def extract_even(self):\n",
    "        l1 = []\n",
    "        for i in self.l:\n",
    "            if i % 2 == 0:\n",
    "                l1.append(i)\n",
    "        return l1\n",
    "\n",
    "# Example usage:\n",
    "# Create an instance of the ListOps class\n",
    "shahanshah = ListOps([2, 3, 45, 2, 9, 9])\n",
    "\n",
    "# Use the methods\n",
    "index_value = shahanshah.extract_from_index(2)\n",
    "range_data = shahanshah.extract_range_data(1, 4)\n",
    "even_numbers = shahanshah.extract_even()\n",
    "\n",
    "print(\"Value at index 2:\", index_value)\n",
    "print(\"Range data from index 1 to 4:\", range_data)\n",
    "print(\"Even numbers:\", even_numbers)\n"
   ]
  },
  {
   "cell_type": "code",
   "execution_count": 30,
   "id": "85ffd148-f82e-49ba-aff9-d9e6aa0741a6",
   "metadata": {},
   "outputs": [
    {
     "ename": "TypeError",
     "evalue": "list_ops() takes no arguments",
     "output_type": "error",
     "traceback": [
      "\u001b[0;31m---------------------------------------------------------------------------\u001b[0m",
      "\u001b[0;31mTypeError\u001b[0m                                 Traceback (most recent call last)",
      "Cell \u001b[0;32mIn[30], line 1\u001b[0m\n\u001b[0;32m----> 1\u001b[0m second_obj\u001b[38;5;241m=\u001b[39mlist_ops([\u001b[38;5;241m3\u001b[39m,\u001b[38;5;241m5\u001b[39m,\u001b[38;5;241m23\u001b[39m,\u001b[38;5;241m44\u001b[39m,\u001b[38;5;241m343\u001b[39m,\u001b[38;5;241m2\u001b[39m,\u001b[38;5;241m313\u001b[39m,])\n",
      "\u001b[0;31mTypeError\u001b[0m: list_ops() takes no arguments"
     ]
    }
   ],
   "source": [
    "second_obj=list_ops([3,5,23,44,343,2,313,])"
   ]
  },
  {
   "cell_type": "code",
   "execution_count": 62,
   "id": "e203cf8d-d7d0-496d-9bd0-5fc88353386a",
   "metadata": {},
   "outputs": [
    {
     "ename": "SyntaxError",
     "evalue": "invalid syntax (4206680786.py, line 5)",
     "output_type": "error",
     "traceback": [
      "\u001b[0;36m  Cell \u001b[0;32mIn[62], line 5\u001b[0;36m\u001b[0m\n\u001b[0;31m    shahanshah.l3=(34,5,6,,87)\u001b[0m\n\u001b[0m                          ^\u001b[0m\n\u001b[0;31mSyntaxError\u001b[0m\u001b[0;31m:\u001b[0m invalid syntax\n"
     ]
    }
   ],
   "source": [
    "class list_ops:\n",
    "    def __int__(shahanshah,l):\n",
    "      shahanshah.l1=l\n",
    "      shahanshah.l2=\"shahanshash\"\n",
    "      shahanshah.l3=(34,5,6,,87)\n",
    "    def exractfromiindex(shahanshah,l,index):\n",
    "        return l[index]\n",
    "    def extractrangedata(shahanshah,l,start,end):\n",
    "        return l[start:end]\n",
    "    def exctracteven(shahanshah,l):\n",
    "        l1=[]\n",
    "        for i in l:\n",
    "            if i%2==0:\n",
    "                l1.append(i)\n",
    "                return l1\n",
    "second_obj=list_ops([3,4,5,9,9,2])\n",
    "second_obj.l1"
   ]
  },
  {
   "cell_type": "code",
   "execution_count": 57,
   "id": "1b726343-bfb5-453e-b56b-c1b76a1aea53",
   "metadata": {},
   "outputs": [
    {
     "ename": "TypeError",
     "evalue": "list_ops() takes no arguments",
     "output_type": "error",
     "traceback": [
      "\u001b[0;31m---------------------------------------------------------------------------\u001b[0m",
      "\u001b[0;31mTypeError\u001b[0m                                 Traceback (most recent call last)",
      "Cell \u001b[0;32mIn[57], line 1\u001b[0m\n\u001b[0;32m----> 1\u001b[0m second_obj\u001b[38;5;241m=\u001b[39mlist_ops([\u001b[38;5;241m3\u001b[39m,\u001b[38;5;241m4\u001b[39m,\u001b[38;5;241m5\u001b[39m,\u001b[38;5;241m9\u001b[39m,\u001b[38;5;241m9\u001b[39m,\u001b[38;5;241m2\u001b[39m])\n\u001b[1;32m      2\u001b[0m second_obj\u001b[38;5;241m.\u001b[39ml1\n",
      "\u001b[0;31mTypeError\u001b[0m: list_ops() takes no arguments"
     ]
    }
   ],
   "source": [
    "second_obj=list_ops([3,4,5,9,9,2])\n",
    "second_obj.l1"
   ]
  },
  {
   "cell_type": "code",
   "execution_count": 65,
   "id": "34348660-64e2-42f6-95e4-96cb77fc482b",
   "metadata": {},
   "outputs": [],
   "source": [
    "class ListOps:\n",
    "    def __init__(self, l):\n",
    "        self.l1 = l\n",
    "        self.l2 = \"shahanshash\"\n",
    "        self.l3 = (34, 5, 6, 87)\n",
    "\n",
    "    def extract_from_index(self, index):\n",
    "        return self.l1[index]\n",
    "\n",
    "    def extract_range_data(self, start, end):\n",
    "        return self.l1[start:end]\n",
    "\n",
    "    def extract_even(self):\n",
    "        l1 = []\n",
    "        for i in self.l1:\n",
    "            if i % 2 == 0:\n",
    "                l1.append(i)\n",
    "        return l1\n",
    "\n",
    "# Example usage:\n",
    "second_obj = ListOps([3, 4, 5, 9, 9, 2])\n",
    "\n",
    "# Access the 'l1' attribute\n"
   ]
  },
  {
   "cell_type": "code",
   "execution_count": 67,
   "id": "607cc1bf-50c9-4052-affb-d9bb3e699f64",
   "metadata": {},
   "outputs": [
    {
     "name": "stdout",
     "output_type": "stream",
     "text": [
      "shahanshash\n"
     ]
    }
   ],
   "source": [
    "result = second_obj.l2\n",
    "\n",
    "print(result)"
   ]
  },
  {
   "cell_type": "code",
   "execution_count": 10,
   "id": "aa265544-7104-4c47-bccf-68300b4678d7",
   "metadata": {},
   "outputs": [],
   "source": [
    "class book:\n",
    "    def __int__(self,name,title,pageno):\n",
    "        self.name_of_book=name\n",
    "        self.title_of_book=title\n",
    "        self.page_no=pageno\n",
    "    def extract_details(self):\n",
    "        print(self.name_of_book,self.title_of_book)\n",
    "    def print_page_no(self):\n",
    "        print(self.page_no)\n",
    "        "
   ]
  },
  {
   "cell_type": "code",
   "execution_count": 15,
   "id": "5f3a96f7-f9d0-4738-ae27-b0b27b343c1d",
   "metadata": {},
   "outputs": [],
   "source": [
    "sudhanshu = book('dsa' , 'practical dsa',456)"
   ]
  },
  {
   "cell_type": "code",
   "execution_count": 16,
   "id": "b87fae55-ee62-40e9-a9bc-9ca32f68068a",
   "metadata": {},
   "outputs": [
    {
     "name": "stdout",
     "output_type": "stream",
     "text": [
      "dsa practical dsa\n"
     ]
    }
   ],
   "source": [
    "sudhanshu.extract_details()"
   ]
  },
  {
   "cell_type": "code",
   "execution_count": 13,
   "id": "1be0abb1-ff38-4115-8e3d-4bffc1566809",
   "metadata": {},
   "outputs": [],
   "source": [
    "class book:\n",
    "    \n",
    "    def __init__(self, name , title,pageno) :\n",
    "        self.name_of_book = name\n",
    "        self.title_of_book = title\n",
    "        self.page_no = pageno\n",
    "        \n",
    "    def extract_details(self ):\n",
    "        print(self.name_of_book , self.title_of_book)\n",
    "        \n",
    "    def print_page_no(self):\n",
    "        print(self.page_no)  "
   ]
  },
  {
   "cell_type": "code",
   "execution_count": null,
   "id": "e8c3f95e-1e31-4b79-8288-009bef0311c6",
   "metadata": {},
   "outputs": [],
   "source": []
  },
  {
   "cell_type": "code",
   "execution_count": 14,
   "id": "c5181c11-241f-48ea-8c7d-1ccc177587c7",
   "metadata": {},
   "outputs": [],
   "source": [
    "sudhanshu = book('dsa' , 'practical dsa',456)"
   ]
  },
  {
   "cell_type": "code",
   "execution_count": 9,
   "id": "96fc86d3-7edc-49a8-b42b-1bf854a8f0fc",
   "metadata": {},
   "outputs": [
    {
     "name": "stdout",
     "output_type": "stream",
     "text": [
      "dsa practical dsa\n"
     ]
    }
   ],
   "source": [
    "sudhanshu. extract_details()"
   ]
  },
  {
   "cell_type": "code",
   "execution_count": null,
   "id": "b39798e5-6211-405e-bb48-534af1e6b8c7",
   "metadata": {},
   "outputs": [],
   "source": []
  },
  {
   "cell_type": "code",
   "execution_count": 17,
   "id": "292bdd99-b99d-4248-bf65-c810f0192294",
   "metadata": {},
   "outputs": [],
   "source": [
    "sudhanshu = book('dsa' , 'practical dsa',456)\n",
    "ronik = book('data science', 'emplementation of data science ' , 345)\n",
    "wasim = book('big data' , 'invention with big data' , 434)"
   ]
  },
  {
   "cell_type": "code",
   "execution_count": 51,
   "id": "0487ff16-f7c5-47c8-9891-9128b4477e4d",
   "metadata": {},
   "outputs": [],
   "source": [
    "class gmail_ops:\n",
    "    def __init__(self,userid,password):\n",
    "        self.userid=userid\n",
    "        self.passwor=paassword\n",
    "        self.url1=\"https://learn.pwskills.com/lesson/01st-Oct'2\"\n",
    "\n",
    "    def loging(self):\n",
    "         print(\"take user id \"+self.userid+\"take password\"+self.passwor+\"hit url\"+self.url)\n",
    "         print(\"login\")\n",
    "\n",
    "    def read_mail(self):\n",
    "         print(\"read mailfor\"+self.userid+\" \"+self.passwor)\n",
    "       "
   ]
  },
  {
   "cell_type": "code",
   "execution_count": 52,
   "id": "9be5fe07-2b0c-4192-91f8-7ec417eaf53a",
   "metadata": {},
   "outputs": [
    {
     "ename": "NameError",
     "evalue": "name 'paassword' is not defined",
     "output_type": "error",
     "traceback": [
      "\u001b[0;31m---------------------------------------------------------------------------\u001b[0m",
      "\u001b[0;31mNameError\u001b[0m                                 Traceback (most recent call last)",
      "Cell \u001b[0;32mIn[52], line 1\u001b[0m\n\u001b[0;32m----> 1\u001b[0m user1 \u001b[38;5;241m=\u001b[39m gmail_ops(\u001b[38;5;124m\"\u001b[39m\u001b[38;5;124muser1\u001b[39m\u001b[38;5;124m\"\u001b[39m, \u001b[38;5;124m\"\u001b[39m\u001b[38;5;124muser1pass\u001b[39m\u001b[38;5;124m\"\u001b[39m)\n\u001b[1;32m      2\u001b[0m user1\u001b[38;5;241m.\u001b[39mlogin()\n",
      "Cell \u001b[0;32mIn[51], line 4\u001b[0m, in \u001b[0;36mgmail_ops.__init__\u001b[0;34m(self, userid, password)\u001b[0m\n\u001b[1;32m      2\u001b[0m \u001b[38;5;28;01mdef\u001b[39;00m \u001b[38;5;21m__init__\u001b[39m(\u001b[38;5;28mself\u001b[39m,userid,password):\n\u001b[1;32m      3\u001b[0m     \u001b[38;5;28mself\u001b[39m\u001b[38;5;241m.\u001b[39muserid\u001b[38;5;241m=\u001b[39muserid\n\u001b[0;32m----> 4\u001b[0m     \u001b[38;5;28mself\u001b[39m\u001b[38;5;241m.\u001b[39mpasswor\u001b[38;5;241m=\u001b[39mpaassword\n\u001b[1;32m      5\u001b[0m     \u001b[38;5;28mself\u001b[39m\u001b[38;5;241m.\u001b[39murl1\u001b[38;5;241m=\u001b[39m\u001b[38;5;124m\"\u001b[39m\u001b[38;5;124mhttps://learn.pwskills.com/lesson/01st-Oct\u001b[39m\u001b[38;5;124m'\u001b[39m\u001b[38;5;124m2\u001b[39m\u001b[38;5;124m\"\u001b[39m\n",
      "\u001b[0;31mNameError\u001b[0m: name 'paassword' is not defined"
     ]
    }
   ],
   "source": [
    "user1 = gmail_ops(\"user1\", \"user1pass\")\n",
    "user1.login()\n"
   ]
  },
  {
   "cell_type": "code",
   "execution_count": 39,
   "id": "83eeb297-f7d8-4e08-9806-6558cbb9cf5d",
   "metadata": {},
   "outputs": [],
   "source": [
    "class gmail_ops:\n",
    "    def __init__(self,userid,password):\n",
    "        self.userid = userid\n",
    "        self.passwod = password \n",
    "        self.url = \"https://mail.google.com/mail/u/1/#inbox\"\n",
    "        \n",
    "    def login(self) :\n",
    "        print(\"take userid\" + self.userid + \"take password\" + self.passwod + \"hit url\" + self.url)\n",
    "        print(\"login\")\n",
    "        \n",
    "    def read_mail(self):\n",
    "        print(\"read mail for\" + self.userid + \"  \" + self.passwod)\n",
    "        \n",
    "    def reply_mail(self) : \n",
    "        print(\"reply  mail for\" + self.userid + \"  \" + self.passwod)"
   ]
  },
  {
   "cell_type": "code",
   "execution_count": 40,
   "id": "83e0e8a9-fde6-44db-b595-a9e59b4c7391",
   "metadata": {},
   "outputs": [
    {
     "name": "stdout",
     "output_type": "stream",
     "text": [
      "take useriduser1take passworduser1passhit urlhttps://mail.google.com/mail/u/1/#inbox\n",
      "login\n"
     ]
    }
   ],
   "source": [
    "user1 = gmail_ops(\"user1\" , \"user1pass\")\n",
    "user1.login()"
   ]
  },
  {
   "cell_type": "code",
   "execution_count": 34,
   "id": "7cc057bb-c368-4254-b8c7-eb2b5e6fa812",
   "metadata": {},
   "outputs": [],
   "source": [
    "from functools import reduce\n",
    "\n",
    "class Calculate:\n",
    "\n",
    "    def __init__(self,username):\n",
    "        self.username=username\n",
    "    \n",
    "    def add(self, *args):\n",
    "        return self.username,sum(args)\n",
    "\n",
    "    def subtraction(self, *args):\n",
    "        return reduce(lambda a, b: a - b, args)\n",
    "\n",
    "    def mul(self, *args):\n",
    "        return reduce(lambda a, b: a * b, args)\n",
    "\n",
    "    def div(self, *args):\n",
    "        return reduce(lambda a, b: a / b, args)\n"
   ]
  },
  {
   "cell_type": "code",
   "execution_count": 37,
   "id": "f49d4814-6061-4e53-951f-4224c7410756",
   "metadata": {},
   "outputs": [],
   "source": [
    "shahanshah=Calculate(\"sofyan\")"
   ]
  },
  {
   "cell_type": "code",
   "execution_count": 38,
   "id": "85d6d1a5-6caa-4dc8-807b-ad3857ecbf38",
   "metadata": {},
   "outputs": [
    {
     "data": {
      "text/plain": [
       "('sofyan', 65)"
      ]
     },
     "execution_count": 38,
     "metadata": {},
     "output_type": "execute_result"
    }
   ],
   "source": [
    "shahanshah.add(45,5,7,8)"
   ]
  },
  {
   "cell_type": "code",
   "execution_count": 39,
   "id": "d68289ca-41cc-4039-b491-9cb4de85e8ed",
   "metadata": {},
   "outputs": [
    {
     "data": {
      "text/plain": [
       "-12"
      ]
     },
     "execution_count": 39,
     "metadata": {},
     "output_type": "execute_result"
    }
   ],
   "source": [
    "shahanshah.subtraction(3,4,5,6)"
   ]
  },
  {
   "cell_type": "code",
   "execution_count": 40,
   "id": "d39aa7a9-198c-4bda-8e52-7a0ccd328936",
   "metadata": {},
   "outputs": [
    {
     "data": {
      "text/plain": [
       "360"
      ]
     },
     "execution_count": 40,
     "metadata": {},
     "output_type": "execute_result"
    }
   ],
   "source": [
    "shahanshah.mul(3,4,5,6)"
   ]
  },
  {
   "cell_type": "code",
   "execution_count": 41,
   "id": "a93df505-4ffb-41e4-aeea-837c2c94f9a5",
   "metadata": {},
   "outputs": [
    {
     "data": {
      "text/plain": [
       "0.024999999999999998"
      ]
     },
     "execution_count": 41,
     "metadata": {},
     "output_type": "execute_result"
    }
   ],
   "source": [
    "shahanshah.div(3,4,5,6)"
   ]
  },
  {
   "cell_type": "code",
   "execution_count": null,
   "id": "cfb55892-57f9-4fd5-9d51-5520cfae56c6",
   "metadata": {},
   "outputs": [],
   "source": []
  }
 ],
 "metadata": {
  "kernelspec": {
   "display_name": "Python 3 (ipykernel)",
   "language": "python",
   "name": "python3"
  },
  "language_info": {
   "codemirror_mode": {
    "name": "ipython",
    "version": 3
   },
   "file_extension": ".py",
   "mimetype": "text/x-python",
   "name": "python",
   "nbconvert_exporter": "python",
   "pygments_lexer": "ipython3",
   "version": "3.11.5"
  }
 },
 "nbformat": 4,
 "nbformat_minor": 5
}
